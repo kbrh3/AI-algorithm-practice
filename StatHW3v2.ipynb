{
  "nbformat": 4,
  "nbformat_minor": 0,
  "metadata": {
    "colab": {
      "provenance": [],
      "authorship_tag": "ABX9TyNFDyLX+Vp7fthoQiKJmIG6",
      "include_colab_link": true
    },
    "kernelspec": {
      "name": "ir",
      "display_name": "R"
    },
    "language_info": {
      "name": "R"
    }
  },
  "cells": [
    {
      "cell_type": "markdown",
      "metadata": {
        "id": "view-in-github",
        "colab_type": "text"
      },
      "source": [
        "<a href=\"https://colab.research.google.com/github/kbrh3/AI-algorithm-practice/blob/main/StatHW3v2.ipynb\" target=\"_parent\"><img src=\"https://colab.research.google.com/assets/colab-badge.svg\" alt=\"Open In Colab\"/></a>"
      ]
    },
    {
      "cell_type": "code",
      "execution_count": null,
      "metadata": {
        "colab": {
          "base_uri": "https://localhost:8080/",
          "height": 106
        },
        "id": "L6mXEhF2DYa1",
        "outputId": "e94c61ee-0846-464f-9927-27a9b032f610"
      },
      "outputs": [
        {
          "output_type": "error",
          "ename": "ERROR",
          "evalue": "Error in library(caret): there is no package called ‘caret’\n",
          "traceback": [
            "Error in library(caret): there is no package called ‘caret’\nTraceback:\n",
            "1. library(caret)"
          ]
        }
      ],
      "source": [
        "library(MASS)  # For LDA and QDA\n",
        "library(nnet)  # For mlr\n",
        "library(class) #for knn\n",
        "library(caret) # For cross-validation"
      ]
    },
    {
      "cell_type": "code",
      "source": [
        "library(ISLR)###notice the ISLR package is used instead of ISLR2.\n",
        "\n",
        "set.seed(1)\n",
        "train <- sample(392, 196)"
      ],
      "metadata": {
        "id": "RAjhZDr2UnwJ",
        "colab": {
          "base_uri": "https://localhost:8080/",
          "height": 106
        },
        "outputId": "d8ed1592-c609-4987-d694-5efc74127421"
      },
      "execution_count": null,
      "outputs": [
        {
          "output_type": "error",
          "ename": "ERROR",
          "evalue": "Error in library(ISLR): there is no package called ‘ISLR’\n",
          "traceback": [
            "Error in library(ISLR): there is no package called ‘ISLR’\nTraceback:\n",
            "1. library(ISLR)"
          ]
        }
      ]
    },
    {
      "cell_type": "code",
      "source": [
        "\n",
        "##setwd(\"E:/STAT400_Introduction_to_Statistical_Learning/allRmd/data\")\n",
        "train_data <- read.table(\"/content/zip.train\", header = FALSE)\n",
        "test_data <- read.table(\"/content/zip.test\", header = FALSE)\n",
        "dim(train_data)"
      ],
      "metadata": {
        "colab": {
          "base_uri": "https://localhost:8080/",
          "height": 34
        },
        "id": "IMP5-w2ROYo2",
        "outputId": "70fdaf8f-23de-4bac-88c7-b2c7370f0b67"
      },
      "execution_count": null,
      "outputs": [
        {
          "output_type": "display_data",
          "data": {
            "text/html": [
              "<style>\n",
              ".list-inline {list-style: none; margin:0; padding: 0}\n",
              ".list-inline>li {display: inline-block}\n",
              ".list-inline>li:not(:last-child)::after {content: \"\\00b7\"; padding: 0 .5ex}\n",
              "</style>\n",
              "<ol class=list-inline><li>7291</li><li>257</li></ol>\n"
            ],
            "text/markdown": "1. 7291\n2. 257\n\n\n",
            "text/latex": "\\begin{enumerate*}\n\\item 7291\n\\item 257\n\\end{enumerate*}\n",
            "text/plain": [
              "[1] 7291  257"
            ]
          },
          "metadata": {}
        }
      ]
    },
    {
      "cell_type": "code",
      "source": [
        "# Name the first column as 'Y'\n",
        "names(train_data)[1] <- \"Y\" #[1] is the first column, response.\n",
        "names(test_data)[1] <- \"Y\"\n",
        "# Name the subsequent columns as 'pixel1', 'pixel2', ... , 'pixel256'\n",
        "names(train_data)[-1] <- paste0(\"pixel\", 1:(ncol(train_data)-1))\n",
        "names(test_data)[-1] <- paste0(\"pixel\", 1:(ncol(test_data)-1))"
      ],
      "metadata": {
        "id": "-mHKej66Vy4G"
      },
      "execution_count": null,
      "outputs": []
    },
    {
      "cell_type": "code",
      "source": [
        "classes_five <- c(0, 3, 5, 6, 9)\n",
        "train_data_five <- train_data[train_data$Y %in% classes_five, ]\n",
        "test_data_five <- test_data[test_data$Y %in% classes_five, ]"
      ],
      "metadata": {
        "id": "pNxLsKJ1D_w1"
      },
      "execution_count": null,
      "outputs": []
    },
    {
      "cell_type": "code",
      "source": [
        "classes_three <- c(0, 1, 2)\n",
        "train_data_three <- train_data[train_data$Y %in% classes_three, ]\n",
        "test_data_three <- test_data[test_data$Y %in% classes_three, ]"
      ],
      "metadata": {
        "id": "SBHq7c50EBcn"
      },
      "execution_count": null,
      "outputs": []
    },
    {
      "cell_type": "code",
      "source": [
        "classes_ten <- c(0,1,2,3,4,5,6,7,8,9)\n",
        "train_data_ten <- train_data[train_data$Y %in% classes_ten, ]\n",
        "test_data_ten <- test_data[test_data$Y %in% classes_ten, ]"
      ],
      "metadata": {
        "id": "CrANd1OlEJsX"
      },
      "execution_count": null,
      "outputs": []
    },
    {
      "cell_type": "code",
      "source": [
        "##question 3\n",
        "\n",
        "# Fit LDA model\n",
        "lda_model <- lda(Y ~ ., data = train_data_three)\n",
        "# Predictions\n",
        "lda_train_pred <- predict(lda_model, train_data_three)$class\n",
        "lda_test_pred <- predict(lda_model, test_data_three)$class\n",
        "# Calculate errors\n",
        "lda_train_error <- mean(lda_train_pred != train_data_three$Y)\n",
        "lda_test_error <- mean(lda_test_pred != test_data_three$Y)\n"
      ],
      "metadata": {
        "colab": {
          "base_uri": "https://localhost:8080/",
          "height": 193
        },
        "id": "Cdq2p79lGosG",
        "outputId": "aee990d8-b8f6-41b8-f95c-6504a3fab5bf"
      },
      "execution_count": null,
      "outputs": [
        {
          "output_type": "error",
          "ename": "ERROR",
          "evalue": "Error in lda.default(x, grouping, ...): variable 16 appears to be constant within groups\n",
          "traceback": [
            "Error in lda.default(x, grouping, ...): variable 16 appears to be constant within groups\nTraceback:\n",
            "1. lda(Y ~ ., data = train_data_three)",
            "2. lda.formula(Y ~ ., data = train_data_three)",
            "3. lda.default(x, grouping, ...)",
            "4. stop(sprintf(ngettext(length(const), \"variable %s appears to be constant within groups\", \n .     \"variables %s appear to be constant within groups\"), paste(const, \n .     collapse = \" \")), domain = NA)"
          ]
        }
      ]
    },
    {
      "cell_type": "code",
      "source": [
        "# Fit logistic regression model\n",
        "logit_model <- multinom(Y ~ ., data = train_data_three)\n",
        "# Predictions\n",
        "logit_train_pred <- predict(logit_model, train_data_three)\n",
        "logit_test_pred <- predict(logit_model, test_data_three)\n",
        "# Calculate errors\n",
        "logit_train_error <- mean(logit_train_pred != train_data_three$Y)\n",
        "logit_test_error <- mean(logit_test_pred != test_data_three$Y)\n"
      ],
      "metadata": {
        "colab": {
          "base_uri": "https://localhost:8080/"
        },
        "id": "Z3JyAOeUHIuN",
        "outputId": "e67f9c25-004e-44b0-ddb4-f7feecbda5f2"
      },
      "execution_count": null,
      "outputs": [
        {
          "output_type": "stream",
          "name": "stdout",
          "text": [
            "# weights:  774 (514 variable)\n",
            "initial  value 3218.934006 \n",
            "iter  10 value 30.295097\n",
            "iter  20 value 9.812887\n",
            "iter  30 value 2.587927\n",
            "iter  40 value 1.126169\n",
            "iter  50 value 0.633505\n",
            "iter  60 value 0.372125\n",
            "iter  70 value 0.203700\n",
            "iter  80 value 0.116252\n",
            "iter  90 value 0.066790\n",
            "iter 100 value 0.038870\n",
            "final  value 0.038870 \n",
            "stopped after 100 iterations\n"
          ]
        }
      ]
    },
    {
      "cell_type": "code",
      "source": [
        "cat(\"Logistic Regression Training Error:\", logit_train_error, \"\\n\")\n",
        "cat(\"Logistic Regression Test Error:\", logit_test_error, \"\\n\")\n"
      ],
      "metadata": {
        "colab": {
          "base_uri": "https://localhost:8080/"
        },
        "id": "S41xeIj9Ko5E",
        "outputId": "4901384a-3082-47ff-aa01-ef83905bc1d3"
      },
      "execution_count": null,
      "outputs": [
        {
          "output_type": "stream",
          "name": "stdout",
          "text": [
            "Logistic Regression Training Error: 0 \n",
            "Logistic Regression Test Error: 0.0499391 \n"
          ]
        }
      ]
    },
    {
      "cell_type": "code",
      "source": [
        "# Set of k values to try\n",
        "k_values <- c(1, 3, 5, 7, 9)\n",
        "\n",
        "# Loop over k values, apply k-NN, and calculate errors\n",
        "for (k in k_values) {\n",
        "    knn_model <- knn(train = train_data_three[ , -which(names(train_data_three) == \"Y\")],\n",
        "                     test = test_data_three[ , -which(names(test_data_three) == \"Y\")],\n",
        "                     cl = train_data_three$Y, k = k)\n",
        "    knn_test_pred <- knn_model\n",
        "    knn_test_error <- mean(knn_test_pred != test_data_three$Y)\n",
        "    cat(sprintf(\"k = %d: Test Error = %f\\n\", k, knn_test_error))\n",
        "}\n"
      ],
      "metadata": {
        "colab": {
          "base_uri": "https://localhost:8080/"
        },
        "id": "G_FUTV-RMEAg",
        "outputId": "2337303d-d18c-437c-c5c3-0f3ad3edefb9"
      },
      "execution_count": null,
      "outputs": [
        {
          "output_type": "stream",
          "name": "stdout",
          "text": [
            "k = 1: Test Error = 0.020706\n",
            "k = 3: Test Error = 0.019488\n",
            "k = 5: Test Error = 0.018270\n",
            "k = 7: Test Error = 0.019488\n",
            "k = 9: Test Error = 0.021924\n"
          ]
        }
      ]
    },
    {
      "cell_type": "code",
      "source": [
        "install.packages(\"caret\")\n",
        "library(carat)"
      ],
      "metadata": {
        "colab": {
          "base_uri": "https://localhost:8080/",
          "height": 231
        },
        "id": "4tgBvsukPTys",
        "outputId": "6236d64c-15dc-4ec8-a5a2-2eda8e211ce6"
      },
      "execution_count": null,
      "outputs": [
        {
          "output_type": "stream",
          "name": "stderr",
          "text": [
            "Installing package into ‘/usr/local/lib/R/site-library’\n",
            "(as ‘lib’ is unspecified)\n",
            "\n",
            "also installing the dependencies ‘listenv’, ‘parallelly’, ‘future’, ‘globals’, ‘shape’, ‘future.apply’, ‘numDeriv’, ‘progressr’, ‘SQUAREM’, ‘diagram’, ‘lava’, ‘prodlim’, ‘proxy’, ‘iterators’, ‘Rcpp’, ‘clock’, ‘gower’, ‘hardhat’, ‘ipred’, ‘timeDate’, ‘e1071’, ‘foreach’, ‘ModelMetrics’, ‘plyr’, ‘pROC’, ‘recipes’, ‘reshape2’\n",
            "\n",
            "\n"
          ]
        },
        {
          "output_type": "error",
          "ename": "ERROR",
          "evalue": "Error in library(carat): there is no package called ‘carat’\n",
          "traceback": [
            "Error in library(carat): there is no package called ‘carat’\nTraceback:\n",
            "1. library(carat)"
          ]
        }
      ]
    },
    {
      "cell_type": "code",
      "source": [
        "##begin question 4\n",
        "library(MASS) # For lda function\n",
        "LDA10cv <- function(D) {\n",
        "# Making sure the outcome variable is in the first column\n",
        "D <- D[, c(\"Y\", setdiff(names(D), \"Y\"))]\n",
        "# Create 10 random folds\n",
        "folds <- sample(rep(1:10, length.out=nrow(D)))\n",
        "# Perform 10-fold cross-validation\n",
        "#apply: to avoid for loops,\n",
        "#lapply: returns the output as a list, run on every element of data\n",
        "#sapply: returns the output as a vector, run on every element of data\n",
        "\n",
        "cv_errors <- sapply(1:10, function(i) { #means run the designated function with i = 1 to 5.\n",
        "test_idx <- which(folds == i, arr.ind=TRUE)\n",
        "train_set <- D[-test_idx, ]\n",
        "test_set <- D[test_idx, ]\n",
        "lda_model <- lda(Y ~ ., data=test_data_ten)\n",
        "lda_pred <- predict(lda_model, test_data_ten)$class\n",
        "mean(lda_pred != test_data_ten$Y) # Error for this fold\n",
        "})\n",
        "mean(cv_errors)\n",
        "}\n",
        "LDA10cv(train_data_ten)"
      ],
      "metadata": {
        "colab": {
          "base_uri": "https://localhost:8080/",
          "height": 34
        },
        "id": "ufy78AG7NwH4",
        "outputId": "1a8ce837-95bf-4ec6-f96e-64fe9fdd5bdd"
      },
      "execution_count": null,
      "outputs": [
        {
          "output_type": "display_data",
          "data": {
            "text/html": [
              "0.0637767812655705"
            ],
            "text/markdown": "0.0637767812655705",
            "text/latex": "0.0637767812655705",
            "text/plain": [
              "[1] 0.06377678"
            ]
          },
          "metadata": {}
        }
      ]
    },
    {
      "cell_type": "code",
      "source": [
        "\n",
        "LDA10cv <- function(D) {\n",
        "    # Making sure the outcome variable 'Y' is present in the dataset\n",
        "    if (!\"Y\" %in% names(D)) {\n",
        "        stop(\"The dataset must contain 'Y' as the target variable.\")\n",
        "    }\n",
        "\n",
        "    # Create 10 random folds\n",
        "    set.seed(123)  # Set a seed for reproducibility\n",
        "    folds <- sample(rep(1:10, length.out = nrow(D)))\n",
        "\n",
        "    # Perform 10-fold cross-validation\n",
        "    cv_errors <- sapply(1:10, function(i) {\n",
        "        test_idx <- which(folds == i)\n",
        "        train_set <- D[-test_idx, ]\n",
        "        test_set <- D[test_idx, ]\n",
        "\n",
        "        lda_model <- lda(Y ~ ., data = train_set)\n",
        "        lda_pred <- predict(lda_model, test_set)$class\n",
        "        mean(lda_pred != test_set$Y)  # Error for this fold\n",
        "    })\n",
        "\n",
        "    mean(cv_errors)  # Return the average error across all folds\n",
        "}\n",
        "\n",
        "# Usage of the function with your training data\n",
        "cv_error_lda <- LDA10cv(train_data)\n",
        "print(cv_error_lda)\n"
      ],
      "metadata": {
        "colab": {
          "base_uri": "https://localhost:8080/"
        },
        "id": "R52lBe9kS-sO",
        "outputId": "87564997-d742-44f6-c335-010d569b1a87"
      },
      "execution_count": null,
      "outputs": [
        {
          "output_type": "stream",
          "name": "stdout",
          "text": [
            "[1] 0.07680835\n"
          ]
        }
      ]
    },
    {
      "cell_type": "code",
      "source": [
        "\n",
        "# Function for 10-fold CV error for QDA\n",
        "QDA10cv <- function(D) {\n",
        "\n",
        "\n",
        "    # Set a random seed for reproducibility\n",
        "    set.seed(123)\n",
        "    folds <- sample(rep(1:10, length.out = nrow(D)))\n",
        "\n",
        "    # Perform 10-fold cross-validation for QDA\n",
        "    cv_errors <- sapply(1:10, function(i) {\n",
        "        test_idx <- which(folds == i)\n",
        "        train_set <- D[-test_idx, ]\n",
        "        test_set <- D[test_idx, ]\n",
        "\n",
        "        qda_model <- qda(Y ~ ., data = train_set)\n",
        "        qda_pred <- predict(qda_model, test_set)$class\n",
        "        mean(qda_pred != test_set$Y)  # Error for this fold\n",
        "    })\n",
        "\n",
        "    mean(cv_errors)  # Average error across all folds\n",
        "}\n",
        "\n",
        "# Usage of the function with your dataset\n",
        "cv_error_qda <- QDA10cv(train_data_ten)  # Assuming full_data is your dataset\n",
        "print(cv_error_qda)\n"
      ],
      "metadata": {
        "colab": {
          "base_uri": "https://localhost:8080/",
          "height": 349
        },
        "id": "e0ycnFSNTwjY",
        "outputId": "220057ca-6bd1-48d9-d66c-365b3b107110"
      },
      "execution_count": null,
      "outputs": [
        {
          "output_type": "error",
          "ename": "ERROR",
          "evalue": "Error in qda.default(x, grouping, ...): rank deficiency in group 0\n",
          "traceback": [
            "Error in qda.default(x, grouping, ...): rank deficiency in group 0\nTraceback:\n",
            "1. QDA10cv(train_data_ten)",
            "2. sapply(1:10, function(i) {\n .     test_idx <- which(folds == i)\n .     train_set <- D[-test_idx, ]\n .     test_set <- D[test_idx, ]\n .     qda_model <- qda(Y ~ ., data = train_set)\n .     qda_pred <- predict(qda_model, test_set)$class\n .     mean(qda_pred != test_set$Y)\n . })   # at line 11-19 of file <text>",
            "3. lapply(X = X, FUN = FUN, ...)",
            "4. FUN(X[[i]], ...)",
            "5. qda(Y ~ ., data = train_set)   # at line 16 of file <text>",
            "6. qda.formula(Y ~ ., data = train_set)",
            "7. qda.default(x, grouping, ...)",
            "8. stop(gettextf(\"rank deficiency in group %s\", lev[i]), domain = NA)"
          ]
        }
      ]
    }
  ]
}