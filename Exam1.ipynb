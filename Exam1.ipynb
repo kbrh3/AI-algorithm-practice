{
  "nbformat": 4,
  "nbformat_minor": 0,
  "metadata": {
    "colab": {
      "provenance": [],
      "authorship_tag": "ABX9TyPCwxKnNcKyOR9CaxRW/F0V",
      "include_colab_link": true
    },
    "kernelspec": {
      "name": "ir",
      "display_name": "R"
    },
    "language_info": {
      "name": "R"
    }
  },
  "cells": [
    {
      "cell_type": "markdown",
      "metadata": {
        "id": "view-in-github",
        "colab_type": "text"
      },
      "source": [
        "<a href=\"https://colab.research.google.com/github/kbrh3/AI-algorithm-practice/blob/main/Exam1.ipynb\" target=\"_parent\"><img src=\"https://colab.research.google.com/assets/colab-badge.svg\" alt=\"Open In Colab\"/></a>"
      ]
    },
    {
      "cell_type": "code",
      "source": [
        "# Reading a CSV file into a data frame\n",
        "DF <- read.csv(file = \"/content/lymphedemaNYU.csv\", header = TRUE, sep = \",\", stringsAsFactors = FALSE)\n",
        "\n",
        "# Display the first few rows of the data frame\n",
        "head(DF)\n"
      ],
      "metadata": {
        "colab": {
          "base_uri": "https://localhost:8080/",
          "height": 410
        },
        "id": "EqERVvwTgqoL",
        "outputId": "4695519c-0282-4fc2-bb92-ad18b2623a6e"
      },
      "execution_count": null,
      "outputs": [
        {
          "output_type": "display_data",
          "data": {
            "text/html": [
              "<table class=\"dataframe\">\n",
              "<caption>A data.frame: 6 × 19</caption>\n",
              "<thead>\n",
              "\t<tr><th></th><th scope=col>age</th><th scope=col>degree</th><th scope=col>marital</th><th scope=col>employ</th><th scope=col>finance</th><th scope=col>lymph_diag</th><th scope=col>chemo</th><th scope=col>radiation</th><th scope=col>mastectomy</th><th scope=col>lumpectomy</th><th scope=col>num_ln_move</th><th scope=col>hormo</th><th scope=col>diabetes</th><th scope=col>hypertension</th><th scope=col>hypothyroid</th><th scope=col>heart.disease</th><th scope=col>arthritis</th><th scope=col>Affected.Arm.Volume..mL.</th><th scope=col>Unaffected.Arm.Volume..mL.</th></tr>\n",
              "\t<tr><th></th><th scope=col>&lt;int&gt;</th><th scope=col>&lt;chr&gt;</th><th scope=col>&lt;chr&gt;</th><th scope=col>&lt;chr&gt;</th><th scope=col>&lt;chr&gt;</th><th scope=col>&lt;int&gt;</th><th scope=col>&lt;int&gt;</th><th scope=col>&lt;int&gt;</th><th scope=col>&lt;int&gt;</th><th scope=col>&lt;int&gt;</th><th scope=col>&lt;int&gt;</th><th scope=col>&lt;int&gt;</th><th scope=col>&lt;int&gt;</th><th scope=col>&lt;int&gt;</th><th scope=col>&lt;int&gt;</th><th scope=col>&lt;int&gt;</th><th scope=col>&lt;int&gt;</th><th scope=col>&lt;int&gt;</th><th scope=col>&lt;int&gt;</th></tr>\n",
              "</thead>\n",
              "<tbody>\n",
              "\t<tr><th scope=row>1</th><td>48</td><td>Bachelor's Degree</td><td>Not Married/Partnered</td><td>Yes</td><td>Stringent    </td><td>0</td><td>1</td><td>1</td><td>0</td><td>1</td><td> 5</td><td>1</td><td>0</td><td>1</td><td>0</td><td>0</td><td>0</td><td>4452</td><td>3806</td></tr>\n",
              "\t<tr><th scope=row>2</th><td>69</td><td>Graduate Degree  </td><td>Married/Partnered    </td><td>No </td><td>Not Stringent</td><td>0</td><td>0</td><td>0</td><td>1</td><td>0</td><td> 1</td><td>1</td><td>0</td><td>0</td><td>1</td><td>0</td><td>0</td><td>1773</td><td>1901</td></tr>\n",
              "\t<tr><th scope=row>3</th><td>46</td><td>Bachelor's Degree</td><td>Married/Partnered    </td><td>Yes</td><td>Not Stringent</td><td>0</td><td>0</td><td>1</td><td>1</td><td>0</td><td> 2</td><td>1</td><td>0</td><td>0</td><td>0</td><td>0</td><td>0</td><td>2313</td><td>2113</td></tr>\n",
              "\t<tr><th scope=row>4</th><td>65</td><td>Graduate Degree  </td><td>Married/Partnered    </td><td>Yes</td><td>Not Stringent</td><td>0</td><td>1</td><td>1</td><td>1</td><td>0</td><td>10</td><td>1</td><td>0</td><td>0</td><td>0</td><td>0</td><td>0</td><td>2128</td><td>2108</td></tr>\n",
              "\t<tr><th scope=row>5</th><td>53</td><td>Graduate Degree  </td><td>Married/Partnered    </td><td>Yes</td><td>Stringent    </td><td>0</td><td>1</td><td>1</td><td>1</td><td>0</td><td> 7</td><td>1</td><td>1</td><td>1</td><td>1</td><td>0</td><td>0</td><td>2243</td><td>2166</td></tr>\n",
              "\t<tr><th scope=row>6</th><td>50</td><td>Graduate Degree  </td><td>Not Married/Partnered</td><td>Yes</td><td>Stringent    </td><td>1</td><td>1</td><td>1</td><td>1</td><td>0</td><td>16</td><td>1</td><td>0</td><td>1</td><td>0</td><td>0</td><td>0</td><td>3290</td><td>2422</td></tr>\n",
              "</tbody>\n",
              "</table>\n"
            ],
            "text/markdown": "\nA data.frame: 6 × 19\n\n| <!--/--> | age &lt;int&gt; | degree &lt;chr&gt; | marital &lt;chr&gt; | employ &lt;chr&gt; | finance &lt;chr&gt; | lymph_diag &lt;int&gt; | chemo &lt;int&gt; | radiation &lt;int&gt; | mastectomy &lt;int&gt; | lumpectomy &lt;int&gt; | num_ln_move &lt;int&gt; | hormo &lt;int&gt; | diabetes &lt;int&gt; | hypertension &lt;int&gt; | hypothyroid &lt;int&gt; | heart.disease &lt;int&gt; | arthritis &lt;int&gt; | Affected.Arm.Volume..mL. &lt;int&gt; | Unaffected.Arm.Volume..mL. &lt;int&gt; |\n|---|---|---|---|---|---|---|---|---|---|---|---|---|---|---|---|---|---|---|---|\n| 1 | 48 | Bachelor's Degree | Not Married/Partnered | Yes | Stringent     | 0 | 1 | 1 | 0 | 1 |  5 | 1 | 0 | 1 | 0 | 0 | 0 | 4452 | 3806 |\n| 2 | 69 | Graduate Degree   | Married/Partnered     | No  | Not Stringent | 0 | 0 | 0 | 1 | 0 |  1 | 1 | 0 | 0 | 1 | 0 | 0 | 1773 | 1901 |\n| 3 | 46 | Bachelor's Degree | Married/Partnered     | Yes | Not Stringent | 0 | 0 | 1 | 1 | 0 |  2 | 1 | 0 | 0 | 0 | 0 | 0 | 2313 | 2113 |\n| 4 | 65 | Graduate Degree   | Married/Partnered     | Yes | Not Stringent | 0 | 1 | 1 | 1 | 0 | 10 | 1 | 0 | 0 | 0 | 0 | 0 | 2128 | 2108 |\n| 5 | 53 | Graduate Degree   | Married/Partnered     | Yes | Stringent     | 0 | 1 | 1 | 1 | 0 |  7 | 1 | 1 | 1 | 1 | 0 | 0 | 2243 | 2166 |\n| 6 | 50 | Graduate Degree   | Not Married/Partnered | Yes | Stringent     | 1 | 1 | 1 | 1 | 0 | 16 | 1 | 0 | 1 | 0 | 0 | 0 | 3290 | 2422 |\n\n",
            "text/latex": "A data.frame: 6 × 19\n\\begin{tabular}{r|lllllllllllllllllll}\n  & age & degree & marital & employ & finance & lymph\\_diag & chemo & radiation & mastectomy & lumpectomy & num\\_ln\\_move & hormo & diabetes & hypertension & hypothyroid & heart.disease & arthritis & Affected.Arm.Volume..mL. & Unaffected.Arm.Volume..mL.\\\\\n  & <int> & <chr> & <chr> & <chr> & <chr> & <int> & <int> & <int> & <int> & <int> & <int> & <int> & <int> & <int> & <int> & <int> & <int> & <int> & <int>\\\\\n\\hline\n\t1 & 48 & Bachelor's Degree & Not Married/Partnered & Yes & Stringent     & 0 & 1 & 1 & 0 & 1 &  5 & 1 & 0 & 1 & 0 & 0 & 0 & 4452 & 3806\\\\\n\t2 & 69 & Graduate Degree   & Married/Partnered     & No  & Not Stringent & 0 & 0 & 0 & 1 & 0 &  1 & 1 & 0 & 0 & 1 & 0 & 0 & 1773 & 1901\\\\\n\t3 & 46 & Bachelor's Degree & Married/Partnered     & Yes & Not Stringent & 0 & 0 & 1 & 1 & 0 &  2 & 1 & 0 & 0 & 0 & 0 & 0 & 2313 & 2113\\\\\n\t4 & 65 & Graduate Degree   & Married/Partnered     & Yes & Not Stringent & 0 & 1 & 1 & 1 & 0 & 10 & 1 & 0 & 0 & 0 & 0 & 0 & 2128 & 2108\\\\\n\t5 & 53 & Graduate Degree   & Married/Partnered     & Yes & Stringent     & 0 & 1 & 1 & 1 & 0 &  7 & 1 & 1 & 1 & 1 & 0 & 0 & 2243 & 2166\\\\\n\t6 & 50 & Graduate Degree   & Not Married/Partnered & Yes & Stringent     & 1 & 1 & 1 & 1 & 0 & 16 & 1 & 0 & 1 & 0 & 0 & 0 & 3290 & 2422\\\\\n\\end{tabular}\n",
            "text/plain": [
              "  age degree            marital               employ finance       lymph_diag\n",
              "1 48  Bachelor's Degree Not Married/Partnered Yes    Stringent     0         \n",
              "2 69  Graduate Degree   Married/Partnered     No     Not Stringent 0         \n",
              "3 46  Bachelor's Degree Married/Partnered     Yes    Not Stringent 0         \n",
              "4 65  Graduate Degree   Married/Partnered     Yes    Not Stringent 0         \n",
              "5 53  Graduate Degree   Married/Partnered     Yes    Stringent     0         \n",
              "6 50  Graduate Degree   Not Married/Partnered Yes    Stringent     1         \n",
              "  chemo radiation mastectomy lumpectomy num_ln_move hormo diabetes hypertension\n",
              "1 1     1         0          1           5          1     0        1           \n",
              "2 0     0         1          0           1          1     0        0           \n",
              "3 0     1         1          0           2          1     0        0           \n",
              "4 1     1         1          0          10          1     0        0           \n",
              "5 1     1         1          0           7          1     1        1           \n",
              "6 1     1         1          0          16          1     0        1           \n",
              "  hypothyroid heart.disease arthritis Affected.Arm.Volume..mL.\n",
              "1 0           0             0         4452                    \n",
              "2 1           0             0         1773                    \n",
              "3 0           0             0         2313                    \n",
              "4 0           0             0         2128                    \n",
              "5 1           0             0         2243                    \n",
              "6 0           0             0         3290                    \n",
              "  Unaffected.Arm.Volume..mL.\n",
              "1 3806                      \n",
              "2 1901                      \n",
              "3 2113                      \n",
              "4 2108                      \n",
              "5 2166                      \n",
              "6 2422                      "
            ]
          },
          "metadata": {}
        }
      ]
    },
    {
      "cell_type": "markdown",
      "source": [],
      "metadata": {
        "id": "bi__9dzQC5U4"
      }
    },
    {
      "cell_type": "code",
      "source": [
        "summary(DF)"
      ],
      "metadata": {
        "colab": {
          "base_uri": "https://localhost:8080/",
          "height": 624
        },
        "id": "qJCpFdC0g2MW",
        "outputId": "b2ca1183-6525-4978-cc64-9e0850fbd324"
      },
      "execution_count": null,
      "outputs": [
        {
          "output_type": "display_data",
          "data": {
            "text/plain": [
              "      age          degree            marital             employ         \n",
              " Min.   :26.0   Length:567         Length:567         Length:567        \n",
              " 1st Qu.:50.0   Class :character   Class :character   Class :character  \n",
              " Median :58.0   Mode  :character   Mode  :character   Mode  :character  \n",
              " Mean   :58.2                                                           \n",
              " 3rd Qu.:67.0                                                           \n",
              " Max.   :85.0                                                           \n",
              "   finance            lymph_diag         chemo          radiation     \n",
              " Length:567         Min.   :0.0000   Min.   :0.0000   Min.   :0.0000  \n",
              " Class :character   1st Qu.:0.0000   1st Qu.:0.0000   1st Qu.:0.0000  \n",
              " Mode  :character   Median :0.0000   Median :1.0000   Median :1.0000  \n",
              "                    Mean   :0.2346   Mean   :0.6402   Mean   :0.7196  \n",
              "                    3rd Qu.:0.0000   3rd Qu.:1.0000   3rd Qu.:1.0000  \n",
              "                    Max.   :1.0000   Max.   :1.0000   Max.   :1.0000  \n",
              "   mastectomy       lumpectomy      num_ln_move        hormo      \n",
              " Min.   :0.0000   Min.   :0.0000   Min.   : 1.00   Min.   :0.000  \n",
              " 1st Qu.:0.0000   1st Qu.:0.0000   1st Qu.: 2.00   1st Qu.:1.000  \n",
              " Median :1.0000   Median :1.0000   Median : 5.00   Median :1.000  \n",
              " Mean   :0.5273   Mean   :0.5238   Mean   : 8.63   Mean   :0.836  \n",
              " 3rd Qu.:1.0000   3rd Qu.:1.0000   3rd Qu.:14.00   3rd Qu.:1.000  \n",
              " Max.   :1.0000   Max.   :1.0000   Max.   :75.00   Max.   :1.000  \n",
              "    diabetes        hypertension     hypothyroid     heart.disease    \n",
              " Min.   :0.00000   Min.   :0.0000   Min.   :0.0000   Min.   :0.00000  \n",
              " 1st Qu.:0.00000   1st Qu.:0.0000   1st Qu.:0.0000   1st Qu.:0.00000  \n",
              " Median :0.00000   Median :0.0000   Median :0.0000   Median :0.00000  \n",
              " Mean   :0.04409   Mean   :0.1711   Mean   :0.1235   Mean   :0.05291  \n",
              " 3rd Qu.:0.00000   3rd Qu.:0.0000   3rd Qu.:0.0000   3rd Qu.:0.00000  \n",
              " Max.   :1.00000   Max.   :1.0000   Max.   :1.0000   Max.   :1.00000  \n",
              "   arthritis      Affected.Arm.Volume..mL. Unaffected.Arm.Volume..mL.\n",
              " Min.   :0.0000   Min.   :1318             Min.   :1231              \n",
              " 1st Qu.:0.0000   1st Qu.:2100             1st Qu.:2074              \n",
              " Median :0.0000   Median :2454             Median :2400              \n",
              " Mean   :0.1887   Mean   :2589             Mean   :2510              \n",
              " 3rd Qu.:0.0000   3rd Qu.:2922             3rd Qu.:2806              \n",
              " Max.   :1.0000   Max.   :6738             Max.   :6212              "
            ]
          },
          "metadata": {}
        }
      ]
    },
    {
      "cell_type": "code",
      "source": [
        "\n",
        "# Using nrow() and ncol() to get number of rows and columns separately\n",
        "num_rows <- nrow(DF)\n",
        "num_cols <- ncol(DF)\n",
        "cat(\"Number of Observations:\", num_rows, \"\\nNumber of Variables:\", num_cols, \"\\n\")\n",
        "\n",
        "column_names <- colnames(DF)\n",
        "print(column_names)"
      ],
      "metadata": {
        "colab": {
          "base_uri": "https://localhost:8080/"
        },
        "id": "txSO0lLJhQQd",
        "outputId": "b61c577f-ef63-466f-9498-13cd5ab27510"
      },
      "execution_count": null,
      "outputs": [
        {
          "output_type": "stream",
          "name": "stdout",
          "text": [
            "Number of Observations: 567 \n",
            "Number of Variables: 19 \n",
            " [1] \"age\"                        \"degree\"                    \n",
            " [3] \"marital\"                    \"employ\"                    \n",
            " [5] \"finance\"                    \"lymph_diag\"                \n",
            " [7] \"chemo\"                      \"radiation\"                 \n",
            " [9] \"mastectomy\"                 \"lumpectomy\"                \n",
            "[11] \"num_ln_move\"                \"hormo\"                     \n",
            "[13] \"diabetes\"                   \"hypertension\"              \n",
            "[15] \"hypothyroid\"                \"heart.disease\"             \n",
            "[17] \"arthritis\"                  \"Affected.Arm.Volume..mL.\"  \n",
            "[19] \"Unaffected.Arm.Volume..mL.\"\n"
          ]
        }
      ]
    },
    {
      "cell_type": "code",
      "source": [
        "#ratio for b\n",
        "DF$ratio <- DF$Affected.Arm.Volume..mL. / DF$Unaffected.Arm.Volume..mL.\n"
      ],
      "metadata": {
        "id": "riZQyn6OjAc_"
      },
      "execution_count": null,
      "outputs": []
    },
    {
      "cell_type": "code",
      "source": [
        "# Fit the multiple regression model\n",
        "model <- lm(ratio ~ lymph_diag + chemo + radiation + age + marital + finance + mastectomy + num_ln_move + diabetes + hypothyroid + arthritis + degree + employ + lumpectomy + hormo + hypertension + heart.disease, data = DF)\n",
        "\n",
        "# View the summary of the model\n",
        "summary(model)\n"
      ],
      "metadata": {
        "id": "nAute36eozu_"
      },
      "execution_count": null,
      "outputs": []
    },
    {
      "cell_type": "code",
      "source": [
        "# Fit the multiple regression model\n",
        "model <- lm(ratio ~ chemo + radiation + age + marital + finance + mastectomy + num_ln_move + diabetes + hypothyroid + arthritis + degree + employ + lumpectomy + hormo + hypertension + heart.disease, data = DF)\n",
        "\n",
        "# View the summary of the model\n",
        "summary(model)"
      ],
      "metadata": {
        "id": "kIQdwefysIR3"
      },
      "execution_count": null,
      "outputs": []
    },
    {
      "cell_type": "code",
      "source": [
        "# Chemotherapy Predictor\n",
        "model_chemo <- lm(ratio ~ chemo, data = DF)\n",
        "summary(model_chemo)\n",
        "plot(model_chemo)"
      ],
      "metadata": {
        "id": "9jPhnT_PlDfC"
      },
      "execution_count": null,
      "outputs": []
    },
    {
      "cell_type": "code",
      "source": [
        "# Radiation Therapy Predictor\n",
        "model_radiation <- lm(ratio ~ radiation, data = DF)\n",
        "summary(model_radiation)\n",
        "plot(model_radiation)"
      ],
      "metadata": {
        "id": "5PeofOaalF3t"
      },
      "execution_count": null,
      "outputs": []
    },
    {
      "cell_type": "code",
      "source": [
        "# Lymphedema Diagnosis Predictor\n",
        "model_lymph_diag <- lm(ratio ~ lymph_diag, data = DF)\n",
        "summary(model_lymph_diag)\n",
        "plot(model_lymph_diag)\n",
        "\n",
        "\n",
        "\n"
      ],
      "metadata": {
        "id": "YbS_j936jXoZ"
      },
      "execution_count": null,
      "outputs": []
    },
    {
      "cell_type": "code",
      "source": [
        "\n",
        "data <- read.csv(file = \"/content/lymphedemaNYU.csv\", header = TRUE, sep = \",\", stringsAsFactors = FALSE)\n"
      ],
      "metadata": {
        "id": "m-pfjNGtv6t4"
      },
      "execution_count": null,
      "outputs": []
    },
    {
      "cell_type": "code",
      "source": [
        "\n",
        "model <- glm(lymph_diag ~ ., data = data, family = binomial)\n",
        "summary(model)\n"
      ],
      "metadata": {
        "colab": {
          "base_uri": "https://localhost:8080/",
          "height": 642
        },
        "id": "MXcSTGiswV9L",
        "outputId": "3a849afc-84e4-40e9-8138-7f2b440af975"
      },
      "execution_count": null,
      "outputs": [
        {
          "output_type": "display_data",
          "data": {
            "text/plain": [
              "\n",
              "Call:\n",
              "glm(formula = lymph_diag ~ ., family = binomial, data = data)\n",
              "\n",
              "Coefficients:\n",
              "                               Estimate Std. Error z value Pr(>|z|)    \n",
              "(Intercept)                  -2.6688541  1.2330797  -2.164   0.0304 *  \n",
              "age                           0.0059114  0.0130645   0.452   0.6509    \n",
              "degreeBachelor's Degree       0.2320126  0.3067507   0.756   0.4494    \n",
              "degreeGraduate Degree        -0.2515070  0.3221051  -0.781   0.4349    \n",
              "maritalNot Married/Partnered -0.0058793  0.2531067  -0.023   0.9815    \n",
              "employYes                    -0.2657086  0.2689442  -0.988   0.3232    \n",
              "financeStringent              0.0087439  0.4539313   0.019   0.9846    \n",
              "chemo                         0.4629497  0.2965106   1.561   0.1184    \n",
              "radiation                     0.6730445  0.3137435   2.145   0.0319 *  \n",
              "mastectomy                    0.6562958  0.5304330   1.237   0.2160    \n",
              "lumpectomy                   -0.1561779  0.5077197  -0.308   0.7584    \n",
              "num_ln_move                   0.0353484  0.0153168   2.308   0.0210 *  \n",
              "hormo                        -0.3092652  0.3232297  -0.957   0.3387    \n",
              "diabetes                     -0.8274978  0.6881353  -1.203   0.2292    \n",
              "hypertension                 -0.5219454  0.3846586  -1.357   0.1748    \n",
              "hypothyroid                   0.1931640  0.3666582   0.527   0.5983    \n",
              "heart.disease                 0.7601130  0.5079232   1.497   0.1345    \n",
              "arthritis                     0.0867395  0.3351260   0.259   0.7958    \n",
              "Affected.Arm.Volume..mL.      0.0049629  0.0007117   6.973 3.09e-12 ***\n",
              "Unaffected.Arm.Volume..mL.   -0.0051247  0.0007641  -6.707 1.99e-11 ***\n",
              "---\n",
              "Signif. codes:  0 ‘***’ 0.001 ‘**’ 0.01 ‘*’ 0.05 ‘.’ 0.1 ‘ ’ 1\n",
              "\n",
              "(Dispersion parameter for binomial family taken to be 1)\n",
              "\n",
              "    Null deviance: 617.73  on 566  degrees of freedom\n",
              "Residual deviance: 453.20  on 547  degrees of freedom\n",
              "AIC: 493.2\n",
              "\n",
              "Number of Fisher Scoring iterations: 5\n"
            ]
          },
          "metadata": {}
        }
      ]
    },
    {
      "cell_type": "code",
      "source": [
        "\n",
        "predicted_probabilities <- predict(model, type = \"response\")\n",
        "\n",
        "predicted_classes <- ifelse(predicted_probabilities > 0.5, 1, 0)\n"
      ],
      "metadata": {
        "id": "Cg4vSqcozSen"
      },
      "execution_count": null,
      "outputs": []
    },
    {
      "cell_type": "code",
      "source": [
        "\n",
        "actual_classes <- data$lymph_diag\n",
        "confusion_matrix <- table(Predicted = predicted_classes, Actual = actual_classes)\n",
        "print(confusion_matrix)"
      ],
      "metadata": {
        "colab": {
          "base_uri": "https://localhost:8080/"
        },
        "id": "jKvgH3Jfzdd_",
        "outputId": "ea0b39be-2208-40a9-932f-29dee0f56337"
      },
      "execution_count": null,
      "outputs": [
        {
          "output_type": "stream",
          "name": "stdout",
          "text": [
            "         Actual\n",
            "Predicted   0   1\n",
            "        0 417  74\n",
            "        1  17  59\n"
          ]
        }
      ]
    },
    {
      "cell_type": "code",
      "source": [
        "accuracy <- sum(diag(confusion_matrix)) / sum(confusion_matrix)\n",
        "print(paste(\"Accuracy:\", accuracy))"
      ],
      "metadata": {
        "colab": {
          "base_uri": "https://localhost:8080/"
        },
        "id": "Qc9qsuARzvZy",
        "outputId": "b9541292-3b86-42f4-ebaa-798cccfb1672"
      },
      "execution_count": null,
      "outputs": [
        {
          "output_type": "stream",
          "name": "stdout",
          "text": [
            "[1] \"Accuracy: 0.839506172839506\"\n"
          ]
        }
      ]
    }
  ]
}